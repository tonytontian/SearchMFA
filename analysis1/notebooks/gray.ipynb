{
 "cells": [
  {
   "cell_type": "code",
   "execution_count": 17,
   "metadata": {},
   "outputs": [],
   "source": [
    "from PIL import Image\n",
    "from pathlib import Path\n",
    "import json\n",
    "import imagehash\n",
    "from bitarray import bitarray\n",
    "import numpy as np\n",
    "import tqdm\n",
    "import matplotlib.pyplot as plt"
   ]
  },
  {
   "cell_type": "markdown",
   "metadata": {},
   "source": [
    "### db"
   ]
  },
  {
   "cell_type": "code",
   "execution_count": 2,
   "metadata": {},
   "outputs": [],
   "source": [
    "json_path ='../../backend/flask-app/storage/records.json'\n",
    "with open(json_path) as f:\n",
    "    db_data = json.load(f)\n",
    "res = []\n",
    "for o in db_data:\n",
    "    res.append((o['object_id'],\n",
    "                bitarray(o['aHash']),\n",
    "                bitarray(o['pHash']),\n",
    "                bitarray(o['dHash']),\n",
    "                bitarray(o['wHash'])))\n",
    "object_id, ahash, phash, dhash, whash = zip(*res)\n",
    "db = {\n",
    "    'object_id': object_id,\n",
    "    'ahash': ahash,\n",
    "    'phash': phash,\n",
    "    'dhash': dhash,\n",
    "    'whash': whash,\n",
    "}"
   ]
  },
  {
   "cell_type": "markdown",
   "metadata": {},
   "source": [
    "### pic"
   ]
  },
  {
   "cell_type": "code",
   "execution_count": 3,
   "metadata": {},
   "outputs": [],
   "source": [
    "PIC_PATH = Path('../dataset/images')"
   ]
  },
  {
   "cell_type": "code",
   "execution_count": 4,
   "metadata": {},
   "outputs": [],
   "source": [
    "true_map_path = '../annotation/true_map.csv'\n",
    "with open(true_map_path) as f:\n",
    "    true_map_raw = f.read()\n",
    "true_map = [o.split(',') for o in true_map_raw.split('\\n')][:-1]\n",
    "name, object_id = zip(*true_map)\n",
    "pic = {\n",
    "    'name': name,\n",
    "    'object_id': object_id,\n",
    "}"
   ]
  },
  {
   "cell_type": "code",
   "execution_count": 5,
   "metadata": {},
   "outputs": [],
   "source": [
    "crop_path = '../annotation/crop.txt'\n",
    "with open(crop_path) as f:\n",
    "    crop_raw = f.read()\n",
    "crop_lines = crop_raw.split('\\n')[:-1]\n",
    "def split_line(line):\n",
    "    com = line.index(',')\n",
    "    name = line[:com]\n",
    "    crops = line[com+1:]\n",
    "    l1, l2, l3 = crops.split(',{')\n",
    "    l1 = json.loads(l1)\n",
    "    l2 = json.loads('{' + l2)\n",
    "    l3 = json.loads('{' + l3)\n",
    "    return name,l1,l2,l3\n",
    "crops = [split_line(o) for o in crop_lines]"
   ]
  },
  {
   "cell_type": "code",
   "execution_count": 6,
   "metadata": {},
   "outputs": [],
   "source": [
    "# combine\n",
    "dic = {name: i for i,name in enumerate(pic['name'])}\n",
    "l1s = [None] * len(pic['name'])\n",
    "l2s = [None] * len(pic['name'])\n",
    "l3s = [None] * len(pic['name'])\n",
    "for name, l1, l2, l3 in crops:\n",
    "    i = dic[name]\n",
    "    l1s[i] = l1;l2s[i] = l2;l3s[i] = l3\n",
    "pic['l1'] = l1s;pic['l2'] = l2s;pic['l3'] = l3s"
   ]
  },
  {
   "cell_type": "markdown",
   "metadata": {},
   "source": [
    "# test crop"
   ]
  },
  {
   "cell_type": "code",
   "execution_count": 7,
   "metadata": {},
   "outputs": [],
   "source": [
    " # (left, upper, right, lower)-tuple.\n",
    "def to_box(image, crop):\n",
    "    width, height = image.size\n",
    "    x, y, w, h = crop['x']/100, crop['y']/100, crop['width']/100, crop['height']/100\n",
    "    x1 = int(x * width)\n",
    "    y1 = int(y * height)\n",
    "    x2 = int((x + w) * width) - 1\n",
    "    y2 = int((y + h) * height) - 1\n",
    "    return (x1, y1, x2, y2)"
   ]
  },
  {
   "cell_type": "code",
   "execution_count": 8,
   "metadata": {},
   "outputs": [],
   "source": [
    "def get_matched_index(i, hfunc, nfunc, level):\n",
    "    name = pic['name'][i]\n",
    "    image_path = PIC_PATH / name\n",
    "    image = Image.open(image_path)\n",
    "    crop = pic[level][i]\n",
    "    target_id = pic['object_id'][i]\n",
    "    #\n",
    "    c_image = image.crop(to_box(image, crop))\n",
    "    c_image.load()\n",
    "    raw_hash = ''.join(list(hfunc(c_image).hash.flatten().astype(int).astype(str)))\n",
    "    h = bitarray(raw_hash)\n",
    "    #\n",
    "    idx = np.argsort([(h ^ h1).count(1) for h1 in db[nfunc]])\n",
    "    matched = [db['object_id'][i] for i in idx]\n",
    "    return matched.index(target_id), matched"
   ]
  },
  {
   "cell_type": "code",
   "execution_count": 9,
   "metadata": {},
   "outputs": [
    {
     "name": "stderr",
     "output_type": "stream",
     "text": [
      "  0%|          | 0/108 [00:00<?, ?it/s]"
     ]
    },
    {
     "name": "stdout",
     "output_type": "stream",
     "text": [
      "ahash l1\n"
     ]
    },
    {
     "name": "stderr",
     "output_type": "stream",
     "text": [
      "100%|██████████| 108/108 [00:19<00:00,  5.60it/s]\n",
      "  1%|          | 1/108 [00:00<00:20,  5.32it/s]"
     ]
    },
    {
     "name": "stdout",
     "output_type": "stream",
     "text": [
      "ahash l2\n"
     ]
    },
    {
     "name": "stderr",
     "output_type": "stream",
     "text": [
      "100%|██████████| 108/108 [00:19<00:00,  5.30it/s]\n",
      "  0%|          | 0/108 [00:00<?, ?it/s]"
     ]
    },
    {
     "name": "stdout",
     "output_type": "stream",
     "text": [
      "ahash l3\n"
     ]
    },
    {
     "name": "stderr",
     "output_type": "stream",
     "text": [
      "100%|██████████| 108/108 [00:20<00:00,  5.24it/s]\n",
      "  0%|          | 0/108 [00:00<?, ?it/s]"
     ]
    },
    {
     "name": "stdout",
     "output_type": "stream",
     "text": [
      "phash l1\n"
     ]
    },
    {
     "name": "stderr",
     "output_type": "stream",
     "text": [
      "100%|██████████| 108/108 [00:20<00:00,  5.10it/s]\n",
      "  1%|          | 1/108 [00:00<00:21,  5.03it/s]"
     ]
    },
    {
     "name": "stdout",
     "output_type": "stream",
     "text": [
      "phash l2\n"
     ]
    },
    {
     "name": "stderr",
     "output_type": "stream",
     "text": [
      "100%|██████████| 108/108 [00:20<00:00,  5.23it/s]\n",
      "  1%|          | 1/108 [00:00<00:21,  5.07it/s]"
     ]
    },
    {
     "name": "stdout",
     "output_type": "stream",
     "text": [
      "phash l3\n"
     ]
    },
    {
     "name": "stderr",
     "output_type": "stream",
     "text": [
      "100%|██████████| 108/108 [00:20<00:00,  5.16it/s]\n",
      "  0%|          | 0/108 [00:00<?, ?it/s]"
     ]
    },
    {
     "name": "stdout",
     "output_type": "stream",
     "text": [
      "dhash l1\n"
     ]
    },
    {
     "name": "stderr",
     "output_type": "stream",
     "text": [
      "100%|██████████| 108/108 [00:20<00:00,  5.21it/s]\n",
      "  1%|          | 1/108 [00:00<00:21,  5.09it/s]"
     ]
    },
    {
     "name": "stdout",
     "output_type": "stream",
     "text": [
      "dhash l2\n"
     ]
    },
    {
     "name": "stderr",
     "output_type": "stream",
     "text": [
      "100%|██████████| 108/108 [00:21<00:00,  5.22it/s]\n",
      "  1%|          | 1/108 [00:00<00:20,  5.13it/s]"
     ]
    },
    {
     "name": "stdout",
     "output_type": "stream",
     "text": [
      "dhash l3\n"
     ]
    },
    {
     "name": "stderr",
     "output_type": "stream",
     "text": [
      "100%|██████████| 108/108 [00:20<00:00,  5.27it/s]\n",
      "  0%|          | 0/108 [00:00<?, ?it/s]"
     ]
    },
    {
     "name": "stdout",
     "output_type": "stream",
     "text": [
      "whash l1\n"
     ]
    },
    {
     "name": "stderr",
     "output_type": "stream",
     "text": [
      "100%|██████████| 108/108 [00:36<00:00,  3.10it/s]\n",
      "  0%|          | 0/108 [00:00<?, ?it/s]"
     ]
    },
    {
     "name": "stdout",
     "output_type": "stream",
     "text": [
      "whash l2\n"
     ]
    },
    {
     "name": "stderr",
     "output_type": "stream",
     "text": [
      "100%|██████████| 108/108 [00:33<00:00,  3.06it/s]\n",
      "  0%|          | 0/108 [00:00<?, ?it/s]"
     ]
    },
    {
     "name": "stdout",
     "output_type": "stream",
     "text": [
      "whash l3\n"
     ]
    },
    {
     "name": "stderr",
     "output_type": "stream",
     "text": [
      "100%|██████████| 108/108 [00:33<00:00,  3.21it/s]\n"
     ]
    }
   ],
   "source": [
    "hash_opts = [\n",
    "    (imagehash.average_hash, 'ahash'),\n",
    "    (imagehash.phash, 'phash'),\n",
    "    (imagehash.dhash, 'dhash'),\n",
    "    (imagehash.whash, 'whash'),\n",
    "]\n",
    "l_opts = ['l1', 'l2', 'l3']\n",
    "midx_dict = {}\n",
    "for hfunc, nfunc in hash_opts:\n",
    "    for l in l_opts:\n",
    "        print(nfunc, l)\n",
    "        midx = []; marray = []\n",
    "        for i in tqdm.tqdm(list(range(len(pic['name'])))):\n",
    "            mi, ma = get_matched_index(i, hfunc, nfunc, l)\n",
    "            midx.append(mi)\n",
    "            marray.append(ma)\n",
    "        midx = np.array(midx)\n",
    "        marray = np.array(marray)\n",
    "        midx_dict[(nfunc, l)] = (midx, marray)"
   ]
  },
  {
   "cell_type": "code",
   "execution_count": 10,
   "metadata": {},
   "outputs": [
    {
     "name": "stdout",
     "output_type": "stream",
     "text": [
      "ahash l1\n",
      "68 82 85\n",
      "ahash l2\n",
      "72 81 84\n",
      "ahash l3\n",
      "73 80 83\n",
      "phash l1\n",
      "96 102 102\n",
      "phash l2\n",
      "97 105 105\n",
      "phash l3\n",
      "99 104 106\n",
      "dhash l1\n",
      "86 95 97\n",
      "dhash l2\n",
      "94 95 95\n",
      "dhash l3\n",
      "91 97 99\n",
      "whash l1\n",
      "55 71 76\n",
      "whash l2\n",
      "68 75 80\n",
      "whash l3\n",
      "65 75 76\n"
     ]
    }
   ],
   "source": [
    "for hfunc, nfunc in hash_opts:\n",
    "    for l in l_opts:\n",
    "        print(nfunc, l)\n",
    "        midx = midx_dict[(nfunc, l)][0]\n",
    "        print(np.sum(midx==0), np.sum(midx<5), np.sum(midx<10))"
   ]
  },
  {
   "cell_type": "markdown",
   "metadata": {},
   "source": [
    "## vis"
   ]
  },
  {
   "cell_type": "code",
   "execution_count": 25,
   "metadata": {},
   "outputs": [
    {
     "data": {
      "text/plain": [
       "(0.7592592592592593, 0.75, 0.7407407407407407)"
      ]
     },
     "execution_count": 25,
     "metadata": {},
     "output_type": "execute_result"
    }
   ],
   "source": [
    "bars1[0], bars2[0], bars3[0]"
   ]
  },
  {
   "cell_type": "code",
   "execution_count": 42,
   "metadata": {},
   "outputs": [
    {
     "data": {
      "image/png": "[encoded data removed]",
      "text/plain": [
       "<Figure size 432x288 with 1 Axes>"
      ]
     },
     "metadata": {
      "needs_background": "light"
     },
     "output_type": "display_data"
    }
   ],
   "source": [
    "def plot(K=1):\n",
    "    barWidth = 0.25\n",
    "    bars1 = []\n",
    "    bars2 = []\n",
    "    bars3 = []\n",
    "    for hfunc, nfunc in hash_opts:\n",
    "        midx1 = midx_dict[(nfunc, 'l1')][0]\n",
    "        bars1.append(np.sum(midx1 < K)/108)\n",
    "        midx2 = midx_dict[(nfunc, 'l2')][0]\n",
    "        bars2.append(np.sum(midx2 < K)/108)\n",
    "        midx3 = midx_dict[(nfunc, 'l3')][0]\n",
    "        bars3.append(np.sum(midx3 < K)/108)\n",
    "    #\n",
    "    r1 = np.arange(len(bars1))\n",
    "    r2 = [x + barWidth for x in r1]\n",
    "    r3 = [x + barWidth for x in r2]\n",
    "    #\n",
    "    plt.bar(r1, bars1, width=barWidth, edgecolor='white', label='guideline1')\n",
    "    plt.bar(r2, bars2, width=barWidth, edgecolor='white', label='guideline2')\n",
    "    plt.bar(r3, bars3, width=barWidth, edgecolor='white', label='guideline3')\n",
    "    # Add xticks on the middle of the group bars\n",
    "    plt.xlabel('hash functoins')\n",
    "    plt.ylabel('Precision @ {}'.format(K))\n",
    "    plt.xticks([r + barWidth for r in range(len(bars1))], ['aHash', 'pHash', 'dHash', 'wHash'])\n",
    "\n",
    "    # Create legend & Show graphic\n",
    "    plt.title('Precision of different hash function and crop guideline')\n",
    "    plt.ylim(0, 1)\n",
    "    plt.legend()\n",
    "    plt.show()\n",
    "plot(1)"
   ]
  },
  {
   "cell_type": "code",
   "execution_count": 43,
   "metadata": {},
   "outputs": [
    {
     "data": {
      "image/png": "[encoded data removed]",
      "text/plain": [
       "<Figure size 432x288 with 1 Axes>"
      ]
     },
     "metadata": {
      "needs_background": "light"
     },
     "output_type": "display_data"
    }
   ],
   "source": [
    "plot(5)"
   ]
  },
  {
   "cell_type": "code",
   "execution_count": 44,
   "metadata": {},
   "outputs": [
    {
     "data": {
      "image/png": "[encoded data removed]",
      "text/plain": [
       "<Figure size 432x288 with 1 Axes>"
      ]
     },
     "metadata": {
      "needs_background": "light"
     },
     "output_type": "display_data"
    }
   ],
   "source": [
    "plot(10)"
   ]
  },
  {
   "cell_type": "code",
   "execution_count": null,
   "metadata": {},
   "outputs": [],
   "source": []
  }
 ],
 "metadata": {
  "kernelspec": {
   "display_name": "Python 3",
   "language": "python",
   "name": "python3"
  },
  "language_info": {
   "codemirror_mode": {
    "name": "ipython",
    "version": 3
   },
   "file_extension": ".py",
   "mimetype": "text/x-python",
   "name": "python",
   "nbconvert_exporter": "python",
   "pygments_lexer": "ipython3",
   "version": "3.7.3"
  }
 },
 "nbformat": 4,
 "nbformat_minor": 2
}
