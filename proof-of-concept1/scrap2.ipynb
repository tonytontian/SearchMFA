{
 "cells": [
  {
   "cell_type": "code",
   "execution_count": 2,
   "metadata": {},
   "outputs": [],
   "source": [
    "import urllib\n",
    "import urllib.request\n",
    "from bs4 import BeautifulSoup\n",
    "import os\n",
    "import tqdm\n",
    "import pandas as pd\n",
    "import re"
   ]
  },
  {
   "cell_type": "code",
   "execution_count": 2,
   "metadata": {},
   "outputs": [],
   "source": [
    "root_url = 'https://collections.mfa.org'\n",
    "page_num = 1\n",
    "browse_url = 'https://collections.mfa.org/objects/images?page={}'.format(page_num)"
   ]
  },
  {
   "cell_type": "code",
   "execution_count": 3,
   "metadata": {},
   "outputs": [],
   "source": [
    "records = []"
   ]
  },
  {
   "cell_type": "code",
   "execution_count": 4,
   "metadata": {},
   "outputs": [],
   "source": [
    "def download_paint_grids(grid_soup):\n",
    "    paint_url_raw = grid_soup.find(class_='primaryMedia').find('a')['href']\n",
    "    paint_url_rel = re.match(r'/objects/(\\d+)', paint_url_raw).group(0)\n",
    "    paint_url = urllib.parse.urljoin(root_url, paint_url_rel)\n",
    "    #\n",
    "    try:\n",
    "        with urllib.request.urlopen(paint_url) as response:\n",
    "            paint_html = response.read()\n",
    "    except Exception as e:\n",
    "        print(e)\n",
    "        return\n",
    "    paint_soup = BeautifulSoup(paint_html)\n",
    "    # Get Image Object ID\n",
    "    try:\n",
    "        img_rel = paint_soup.find(class_=\"download-image\").img.get('src').split(';')[0]\n",
    "    except Exception as e:\n",
    "        object_id = None\n",
    "    else:\n",
    "        img_abs = urllib.parse.urljoin(paint_url, img_rel)\n",
    "        object_id = img_abs.split('/')[-2]\n",
    "    # Get Painting Information\n",
    "    try:\n",
    "        details = str(paint_soup.find(class_='item-details-inner'))\n",
    "    except Exception as e:\n",
    "        print(e)\n",
    "        return\n",
    "    return paint_url, object_id, details"
   ]
  },
  {
   "cell_type": "code",
   "execution_count": 5,
   "metadata": {},
   "outputs": [],
   "source": [
    "def download_browse_page(page_num):\n",
    "    browse_url = 'https://collections.mfa.org/objects/images?page={}'.format(page_num)\n",
    "    with urllib.request.urlopen(browse_url) as response:\n",
    "        browse_html = response.read()\n",
    "    browse_soup = BeautifulSoup(browse_html, 'html.parser')\n",
    "    paint_grids = browse_soup.find_all(class_='grid-item-inner')\n",
    "    for grid_soup in paint_grids:\n",
    "        record = download_paint_grids(grid_soup)\n",
    "        if record is None:\n",
    "            continue\n",
    "        else:\n",
    "            records.append(record)\n",
    "    return browse_soup"
   ]
  },
  {
   "cell_type": "markdown",
   "metadata": {},
   "source": [
    "# Pykka"
   ]
  },
  {
   "cell_type": "code",
   "execution_count": 4,
   "metadata": {},
   "outputs": [
    {
     "ename": "ModuleNotFoundError",
     "evalue": "No module named 'pykka'",
     "output_type": "error",
     "traceback": [
      "\u001b[1;31m---------------------------------------------------------------------------\u001b[0m",
      "\u001b[1;31mModuleNotFoundError\u001b[0m                       Traceback (most recent call last)",
      "\u001b[1;32m<ipython-input-4-30cf3c56e8b7>\u001b[0m in \u001b[0;36m<module>\u001b[1;34m\u001b[0m\n\u001b[1;32m----> 1\u001b[1;33m \u001b[1;32mimport\u001b[0m \u001b[0mpykka\u001b[0m\u001b[1;33m\u001b[0m\u001b[1;33m\u001b[0m\u001b[0m\n\u001b[0m",
      "\u001b[1;31mModuleNotFoundError\u001b[0m: No module named 'pykka'"
     ]
    }
   ],
   "source": [
    "import pykka"
   ]
  },
  {
   "cell_type": "code",
   "execution_count": null,
   "metadata": {},
   "outputs": [],
   "source": []
  },
  {
   "cell_type": "code",
   "execution_count": null,
   "metadata": {},
   "outputs": [],
   "source": []
  },
  {
   "cell_type": "code",
   "execution_count": 6,
   "metadata": {},
   "outputs": [],
   "source": [
    "from queue import Queue\n",
    "import threading"
   ]
  },
  {
   "cell_type": "code",
   "execution_count": 7,
   "metadata": {},
   "outputs": [],
   "source": [
    "num_worker_threads = 10"
   ]
  },
  {
   "cell_type": "code",
   "execution_count": 8,
   "metadata": {},
   "outputs": [],
   "source": [
    "def worker(q):\n",
    "    while True:\n",
    "        print(q.qsize())\n",
    "        page_num = q.get()\n",
    "        if page_num is None:\n",
    "            break\n",
    "        download_browse_page(page_num)\n",
    "        q.task_done()"
   ]
  },
  {
   "cell_type": "code",
   "execution_count": null,
   "metadata": {},
   "outputs": [
    {
     "name": "stdout",
     "output_type": "stream",
     "text": [
      "0\n",
      "00\n",
      "0\n",
      "0\n",
      "00\n",
      "00\n",
      "0\n",
      "\n",
      "\n",
      "\n",
      "36106\n",
      "36105\n",
      "36104\n",
      "36103\n",
      "36102\n",
      "36101\n",
      "36100\n",
      "36099\n",
      "36098\n",
      "36097\n",
      "36096\n",
      "36095\n",
      "36094\n",
      "36093\n",
      "36092\n",
      "36091\n",
      "36090\n",
      "36089\n",
      "36088\n",
      "36087\n",
      "36086\n",
      "36085\n",
      "36084\n",
      "36083\n",
      "36082\n",
      "36081\n",
      "36080\n",
      "36079\n",
      "36078\n",
      "36077\n"
     ]
    }
   ],
   "source": [
    "q = Queue()\n",
    "threads = []\n",
    "for _ in range(num_worker_threads):\n",
    "    t = threading.Thread(target=worker, args=(q,))\n",
    "    t.start()\n",
    "    threads.append(t)\n",
    "for page_num in range(1, 36117):\n",
    "    q.put(page_num)\n",
    "q.join()\n",
    "for _ in range(num_worker_threads):\n",
    "    q.put(None)\n",
    "for t in threads:\n",
    "    t.join()"
   ]
  },
  {
   "cell_type": "code",
   "execution_count": null,
   "metadata": {},
   "outputs": [],
   "source": []
  }
 ],
 "metadata": {
  "kernelspec": {
   "display_name": "ds5500",
   "language": "python",
   "name": "ds5500"
  },
  "language_info": {
   "codemirror_mode": {
    "name": "ipython",
    "version": 3
   },
   "file_extension": ".py",
   "mimetype": "text/x-python",
   "name": "python",
   "nbconvert_exporter": "python",
   "pygments_lexer": "ipython3",
   "version": "3.7.3"
  }
 },
 "nbformat": 4,
 "nbformat_minor": 4
}
